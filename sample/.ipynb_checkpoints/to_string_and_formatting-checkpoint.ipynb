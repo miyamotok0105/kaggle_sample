{
 "cells": [
  {
   "cell_type": "code",
   "execution_count": 1,
   "metadata": {
    "collapsed": true
   },
   "outputs": [],
   "source": [
    "import numpy as np # linear algebra\n",
    "import pandas as pd # data processing, CSV file I/O (e.g. pd.read_csv)\n",
    "from pandas import DataFrame\n",
    "import os\n",
    "import gc\n",
    "import matplotlib.pyplot as plt\n",
    "import seaborn as sns\n",
    "%matplotlib inline\n",
    "import sys\n",
    "if sys.version_info[0] < 3: \n",
    "    from StringIO import StringIO\n",
    "else:\n",
    "    from io import StringIO\n",
    "\n",
    "pal = sns.color_palette()"
   ]
  },
  {
   "cell_type": "code",
   "execution_count": 2,
   "metadata": {
    "collapsed": true
   },
   "outputs": [],
   "source": [
    "myformatter = lambda x: '%4.1f' % x"
   ]
  },
  {
   "cell_type": "code",
   "execution_count": 3,
   "metadata": {},
   "outputs": [
    {
     "data": {
      "text/html": [
       "<div>\n",
       "<style>\n",
       "    .dataframe thead tr:only-child th {\n",
       "        text-align: right;\n",
       "    }\n",
       "\n",
       "    .dataframe thead th {\n",
       "        text-align: left;\n",
       "    }\n",
       "\n",
       "    .dataframe tbody tr th {\n",
       "        vertical-align: top;\n",
       "    }\n",
       "</style>\n",
       "<table border=\"1\" class=\"dataframe\">\n",
       "  <thead>\n",
       "    <tr style=\"text-align: right;\">\n",
       "      <th></th>\n",
       "      <th>A</th>\n",
       "      <th>B</th>\n",
       "      <th>C</th>\n",
       "      <th>D</th>\n",
       "      <th>E</th>\n",
       "    </tr>\n",
       "  </thead>\n",
       "  <tbody>\n",
       "    <tr>\n",
       "      <th>0</th>\n",
       "      <td>-1.456201</td>\n",
       "      <td>1.236410</td>\n",
       "      <td>0.085549</td>\n",
       "      <td>0.598883</td>\n",
       "      <td>1.454858</td>\n",
       "    </tr>\n",
       "    <tr>\n",
       "      <th>1</th>\n",
       "      <td>-0.368926</td>\n",
       "      <td>-1.124766</td>\n",
       "      <td>-0.877651</td>\n",
       "      <td>-0.362187</td>\n",
       "      <td>1.593439</td>\n",
       "    </tr>\n",
       "    <tr>\n",
       "      <th>2</th>\n",
       "      <td>-0.013806</td>\n",
       "      <td>-0.541570</td>\n",
       "      <td>-0.699984</td>\n",
       "      <td>-1.079135</td>\n",
       "      <td>-1.936965</td>\n",
       "    </tr>\n",
       "    <tr>\n",
       "      <th>3</th>\n",
       "      <td>-2.364236</td>\n",
       "      <td>0.102080</td>\n",
       "      <td>0.155478</td>\n",
       "      <td>1.248094</td>\n",
       "      <td>0.532894</td>\n",
       "    </tr>\n",
       "    <tr>\n",
       "      <th>4</th>\n",
       "      <td>0.358956</td>\n",
       "      <td>0.073055</td>\n",
       "      <td>-1.827824</td>\n",
       "      <td>1.691470</td>\n",
       "      <td>-0.386860</td>\n",
       "    </tr>\n",
       "  </tbody>\n",
       "</table>\n",
       "</div>"
      ],
      "text/plain": [
       "          A         B         C         D         E\n",
       "0 -1.456201  1.236410  0.085549  0.598883  1.454858\n",
       "1 -0.368926 -1.124766 -0.877651 -0.362187  1.593439\n",
       "2 -0.013806 -0.541570 -0.699984 -1.079135 -1.936965\n",
       "3 -2.364236  0.102080  0.155478  1.248094  0.532894\n",
       "4  0.358956  0.073055 -1.827824  1.691470 -0.386860"
      ]
     },
     "execution_count": 3,
     "metadata": {},
     "output_type": "execute_result"
    }
   ],
   "source": [
    "df = pd.DataFrame(np.random.randn(10,5), columns=['A', 'B', 'C', 'D', 'E'])\n",
    "df.head()"
   ]
  },
  {
   "cell_type": "code",
   "execution_count": 4,
   "metadata": {},
   "outputs": [
    {
     "name": "stdout",
     "output_type": "stream",
     "text": [
      "     A         B    C         D         E\n",
      "0 -1.5  1.236410  0.1  0.598883  1.454858\n",
      "1 -0.4 -1.124766 -0.9 -0.362187  1.593439\n",
      "2 -0.0 -0.541570 -0.7 -1.079135 -1.936965\n",
      "3 -2.4  0.102080  0.2  1.248094  0.532894\n",
      "4  0.4  0.073055 -1.8  1.691470 -0.386860\n",
      "5 -0.9 -0.792467  0.1  0.875683 -0.814146\n",
      "6  0.2 -0.525136 -0.2  0.978148  0.491762\n",
      "7 -1.1 -0.441595  0.3 -2.717373 -0.953463\n",
      "8  0.5  1.204263 -0.3 -0.890294 -0.194060\n",
      "9 -1.0 -0.213722 -0.0 -0.555852 -0.596005\n"
     ]
    }
   ],
   "source": [
    "df.to_string(formatters={'A': myformatter, 'C': myformatter}, index=False)\n",
    "print(df.to_string(formatters={'A': myformatter, 'C': myformatter}))\n",
    "df.to_csv(\"formated.csv\")"
   ]
  },
  {
   "cell_type": "code",
   "execution_count": 5,
   "metadata": {},
   "outputs": [
    {
     "data": {
      "text/html": [
       "<div>\n",
       "<style>\n",
       "    .dataframe thead tr:only-child th {\n",
       "        text-align: right;\n",
       "    }\n",
       "\n",
       "    .dataframe thead th {\n",
       "        text-align: left;\n",
       "    }\n",
       "\n",
       "    .dataframe tbody tr th {\n",
       "        vertical-align: top;\n",
       "    }\n",
       "</style>\n",
       "<table border=\"1\" class=\"dataframe\">\n",
       "  <thead>\n",
       "    <tr style=\"text-align: right;\">\n",
       "      <th></th>\n",
       "      <th>A         B    C         D         E</th>\n",
       "    </tr>\n",
       "  </thead>\n",
       "  <tbody>\n",
       "    <tr>\n",
       "      <th>0</th>\n",
       "      <td>-1.5  1.236410  0.1  0.598883  1.454858</td>\n",
       "    </tr>\n",
       "    <tr>\n",
       "      <th>1</th>\n",
       "      <td>-0.4 -1.124766 -0.9 -0.362187  1.593439</td>\n",
       "    </tr>\n",
       "    <tr>\n",
       "      <th>2</th>\n",
       "      <td>-0.0 -0.541570 -0.7 -1.079135 -1.936965</td>\n",
       "    </tr>\n",
       "    <tr>\n",
       "      <th>3</th>\n",
       "      <td>-2.4  0.102080  0.2  1.248094  0.532894</td>\n",
       "    </tr>\n",
       "    <tr>\n",
       "      <th>4</th>\n",
       "      <td>0.4  0.073055 -1.8  1.691470 -0.386860</td>\n",
       "    </tr>\n",
       "  </tbody>\n",
       "</table>\n",
       "</div>"
      ],
      "text/plain": [
       "      A         B    C         D         E\n",
       "0  -1.5  1.236410  0.1  0.598883  1.454858\n",
       "1  -0.4 -1.124766 -0.9 -0.362187  1.593439\n",
       "2  -0.0 -0.541570 -0.7 -1.079135 -1.936965\n",
       "3  -2.4  0.102080  0.2  1.248094  0.532894\n",
       "4   0.4  0.073055 -1.8  1.691470 -0.386860"
      ]
     },
     "execution_count": 5,
     "metadata": {},
     "output_type": "execute_result"
    }
   ],
   "source": [
    "TESTDATA=StringIO(df.to_string(formatters={'A': myformatter, 'C': myformatter}, index=False))\n",
    "\n",
    "df = pd.read_csv(TESTDATA, sep=\",\")\n",
    "df.head()\n",
    "#↓列がうまく出てないでしょ。"
   ]
  },
  {
   "cell_type": "code",
   "execution_count": null,
   "metadata": {
    "collapsed": true
   },
   "outputs": [],
   "source": []
  }
 ],
 "metadata": {
  "kernelspec": {
   "display_name": "Python 3",
   "language": "python",
   "name": "python3"
  },
  "language_info": {
   "codemirror_mode": {
    "name": "ipython",
    "version": 3
   },
   "file_extension": ".py",
   "mimetype": "text/x-python",
   "name": "python",
   "nbconvert_exporter": "python",
   "pygments_lexer": "ipython3",
   "version": "3.5.3"
  }
 },
 "nbformat": 4,
 "nbformat_minor": 2
}
