{
 "cells": [
  {
   "cell_type": "code",
   "execution_count": null,
   "metadata": {
    "collapsed": true
   },
   "outputs": [],
   "source": [
    "#https://www.kaggle.com/wayne999/a-simple-genetic-programming/code/code\n"
   ]
  },
  {
   "cell_type": "code",
   "execution_count": 12,
   "metadata": {
    "collapsed": true
   },
   "outputs": [],
   "source": [
    "def mydeap(mungedtrain):\n",
    "    \n",
    "    import operator\n",
    "    import math\n",
    "    import random\n",
    "    \n",
    "    import numpy\n",
    "    \n",
    "    from deap import algorithms\n",
    "    from deap import base\n",
    "    from deap import creator\n",
    "    from deap import tools\n",
    "    from deap import gp\n",
    "    \n",
    "    inputs = mungedtrain.iloc[:,2:10].values.tolist()\n",
    "    outputs = mungedtrain['Survived'].values.tolist()\n",
    "    \n",
    "    # Define new functions\n",
    "    def protectedDiv(left, right):\n",
    "        try:\n",
    "            return left / right\n",
    "        except ZeroDivisionError:\n",
    "            return 1\n",
    "    \n",
    "    pset = gp.PrimitiveSet(\"MAIN\", 8) # eight input\n",
    "    pset.addPrimitive(operator.add, 2) # a + b\n",
    "    pset.addPrimitive(operator.sub, 2) # a - b\n",
    "    pset.addPrimitive(operator.mul, 2) # a * b\n",
    "    pset.addPrimitive(protectedDiv, 2) # a/b\n",
    "    pset.addPrimitive(operator.neg, 1) # - a\n",
    "    pset.addPrimitive(math.cos, 1)\n",
    "    pset.addPrimitive(math.sin, 1)\n",
    "    pset.addPrimitive(max, 2)\n",
    "    pset.addPrimitive(min, 2) # add more?\n",
    "    pset.addEphemeralConstant(\"rand101\", lambda: random.uniform(-10,10)) # adjust?\n",
    "    pset.renameArguments(ARG0='x1') #Pclass\n",
    "    pset.renameArguments(ARG1='x2') #Sex\n",
    "    pset.renameArguments(ARG2='x3') #Age\n",
    "    pset.renameArguments(ARG3='x4') #SibSp\n",
    "    pset.renameArguments(ARG4='x5') #Parch\n",
    "    pset.renameArguments(ARG5='x6') #Fare\n",
    "    pset.renameArguments(ARG6='x7') #Cabin\n",
    "    pset.renameArguments(ARG7='x8') #Embarked\n",
    "\n",
    "    \n",
    "    creator.create(\"FitnessMin\", base.Fitness, weights=(1.0,))\n",
    "    creator.create(\"Individual\", gp.PrimitiveTree, fitness=creator.FitnessMin)\n",
    "    \n",
    "    toolbox = base.Toolbox()\n",
    "    toolbox.register(\"expr\", gp.genHalfAndHalf, pset=pset, min_=1, max_=3) #\n",
    "    toolbox.register(\"individual\", tools.initIterate, creator.Individual, toolbox.expr)\n",
    "    toolbox.register(\"population\", tools.initRepeat, list, toolbox.individual)\n",
    "    toolbox.register(\"compile\", gp.compile, pset=pset)\n",
    "    \n",
    "    def evalSymbReg(individual):\n",
    "        # Transform the tree expression in a callable function\n",
    "        func = toolbox.compile(expr=individual)\n",
    "        # Evaluate the accuracy\n",
    "        return sum(round(1.-(1./(1.+numpy.exp(-func(*in_))))) == out for in_, out in zip(inputs, outputs))/len(mungedtrain),\n",
    "    \n",
    "    toolbox.register(\"evaluate\", evalSymbReg)\n",
    "    toolbox.register(\"select\", tools.selTournament, tournsize=3)\n",
    "    toolbox.register(\"mate\", gp.cxOnePoint)\n",
    "    toolbox.register(\"expr_mut\", gp.genFull, min_=0, max_=2)\n",
    "    toolbox.register(\"mutate\", gp.mutUniform, expr=toolbox.expr_mut, pset=pset)\n",
    "    \n",
    "    toolbox.decorate(\"mate\", gp.staticLimit(key=operator.attrgetter(\"height\"), max_value=17))\n",
    "    toolbox.decorate(\"mutate\", gp.staticLimit(key=operator.attrgetter(\"height\"), max_value=17))\n",
    "    \n",
    "    \n",
    "    \n",
    "    \n",
    "    random.seed(318)\n",
    "    \n",
    "    pop = toolbox.population(n=300) #\n",
    "    hof = tools.HallOfFame(1)\n",
    "    \n",
    "    stats_fit = tools.Statistics(lambda ind: ind.fitness.values)\n",
    "    stats_size = tools.Statistics(len)\n",
    "    mstats = tools.MultiStatistics(fitness=stats_fit, size=stats_size)\n",
    "    mstats.register(\"avg\", numpy.mean)\n",
    "    mstats.register(\"std\", numpy.std)\n",
    "    mstats.register(\"min\", numpy.min)\n",
    "    mstats.register(\"max\", numpy.max)\n",
    "    \n",
    "    pop, log = algorithms.eaSimple(pop, toolbox, 0.5, 0.2, ngen=50, stats=mstats,\n",
    "                                   halloffame=hof, verbose=True) #\n",
    "    \n",
    "    print(\"pset\", pset)\n",
    "    print(\"master\", mstats)\n",
    "    print(hof[0])\n",
    "    func2 =toolbox.compile(expr=hof[0])\n",
    "    return func2\n",
    "    "
   ]
  },
  {
   "cell_type": "code",
   "execution_count": 8,
   "metadata": {
    "collapsed": true
   },
   "outputs": [],
   "source": [
    "import numpy as np\n",
    "import pandas as pd"
   ]
  },
  {
   "cell_type": "code",
   "execution_count": 9,
   "metadata": {
    "collapsed": true
   },
   "outputs": [],
   "source": [
    "def Outputs(data):\n",
    "    return np.round(1.-(1./(1.+np.exp(-data))))\n",
    "    \n",
    "def MungeData(data):\n",
    "    # Sex\n",
    "    data.drop(['Ticket', 'Name'], inplace=True, axis=1)\n",
    "    data.Sex.fillna('0', inplace=True)\n",
    "    data.loc[data.Sex != 'male', 'Sex'] = 0\n",
    "    data.loc[data.Sex == 'male', 'Sex'] = 1\n",
    "    # Cabin\n",
    "    data.Cabin.fillna('0', inplace=True)\n",
    "    data.loc[data.Cabin.str[0] == 'A', 'Cabin'] = 1\n",
    "    data.loc[data.Cabin.str[0] == 'B', 'Cabin'] = 2\n",
    "    data.loc[data.Cabin.str[0] == 'C', 'Cabin'] = 3\n",
    "    data.loc[data.Cabin.str[0] == 'D', 'Cabin'] = 4\n",
    "    data.loc[data.Cabin.str[0] == 'E', 'Cabin'] = 5\n",
    "    data.loc[data.Cabin.str[0] == 'F', 'Cabin'] = 6\n",
    "    data.loc[data.Cabin.str[0] == 'G', 'Cabin'] = 7\n",
    "    data.loc[data.Cabin.str[0] == 'T', 'Cabin'] = 8\n",
    "    # Embarked\n",
    "    data.loc[data.Embarked == 'C', 'Embarked'] = 1\n",
    "    data.loc[data.Embarked == 'Q', 'Embarked'] = 2\n",
    "    data.loc[data.Embarked == 'S', 'Embarked'] = 3\n",
    "    data.Embarked.fillna(0, inplace=True)\n",
    "    data.fillna(-1, inplace=True)\n",
    "    return data.astype(float)\n",
    "\n",
    "    "
   ]
  },
  {
   "cell_type": "code",
   "execution_count": 11,
   "metadata": {},
   "outputs": [
    {
     "name": "stdout",
     "output_type": "stream",
     "text": [
      "mungedtrain     PassengerId  Survived  Pclass  Sex   Age  SibSp  Parch     Fare  Cabin  \\\n",
      "0          1.0       0.0     3.0  1.0  22.0    1.0    0.0   7.2500    0.0   \n",
      "1          2.0       1.0     1.0  0.0  38.0    1.0    0.0  71.2833    3.0   \n",
      "2          3.0       1.0     3.0  0.0  26.0    0.0    0.0   7.9250    0.0   \n",
      "\n",
      "   Embarked  \n",
      "0       3.0  \n",
      "1       1.0  \n",
      "2       3.0  \n"
     ]
    },
    {
     "ename": "Exception",
     "evalue": "Ephemerals with different functions should be named differently, even between psets.",
     "output_type": "error",
     "traceback": [
      "\u001b[0;31m---------------------------------------------------------------------------\u001b[0m",
      "\u001b[0;31mException\u001b[0m                                 Traceback (most recent call last)",
      "\u001b[0;32m<ipython-input-11-43d7da514fec>\u001b[0m in \u001b[0;36m<module>\u001b[0;34m()\u001b[0m\n\u001b[1;32m      5\u001b[0m     \u001b[0mprint\u001b[0m\u001b[0;34m(\u001b[0m\u001b[0;34m\"mungedtrain \"\u001b[0m\u001b[0;34m,\u001b[0m \u001b[0mmungedtrain\u001b[0m\u001b[0;34m.\u001b[0m\u001b[0mhead\u001b[0m\u001b[0;34m(\u001b[0m\u001b[0;36m3\u001b[0m\u001b[0;34m)\u001b[0m\u001b[0;34m)\u001b[0m\u001b[0;34m\u001b[0m\u001b[0m\n\u001b[1;32m      6\u001b[0m     \u001b[0;31m#GP\u001b[0m\u001b[0;34m\u001b[0m\u001b[0;34m\u001b[0m\u001b[0m\n\u001b[0;32m----> 7\u001b[0;31m     \u001b[0mGeneticFunction\u001b[0m \u001b[0;34m=\u001b[0m \u001b[0mmydeap\u001b[0m\u001b[0;34m(\u001b[0m\u001b[0mmungedtrain\u001b[0m\u001b[0;34m)\u001b[0m\u001b[0;34m\u001b[0m\u001b[0m\n\u001b[0m\u001b[1;32m      8\u001b[0m \u001b[0;34m\u001b[0m\u001b[0m\n\u001b[1;32m      9\u001b[0m     \u001b[0;31m#test\u001b[0m\u001b[0;34m\u001b[0m\u001b[0;34m\u001b[0m\u001b[0m\n",
      "\u001b[0;32m<ipython-input-7-37cd060ed98b>\u001b[0m in \u001b[0;36mmydeap\u001b[0;34m(mungedtrain)\u001b[0m\n\u001b[1;32m     33\u001b[0m     \u001b[0mpset\u001b[0m\u001b[0;34m.\u001b[0m\u001b[0maddPrimitive\u001b[0m\u001b[0;34m(\u001b[0m\u001b[0mmax\u001b[0m\u001b[0;34m,\u001b[0m \u001b[0;36m2\u001b[0m\u001b[0;34m)\u001b[0m\u001b[0;34m\u001b[0m\u001b[0m\n\u001b[1;32m     34\u001b[0m     \u001b[0mpset\u001b[0m\u001b[0;34m.\u001b[0m\u001b[0maddPrimitive\u001b[0m\u001b[0;34m(\u001b[0m\u001b[0mmin\u001b[0m\u001b[0;34m,\u001b[0m \u001b[0;36m2\u001b[0m\u001b[0;34m)\u001b[0m \u001b[0;31m# add more?\u001b[0m\u001b[0;34m\u001b[0m\u001b[0m\n\u001b[0;32m---> 35\u001b[0;31m     \u001b[0mpset\u001b[0m\u001b[0;34m.\u001b[0m\u001b[0maddEphemeralConstant\u001b[0m\u001b[0;34m(\u001b[0m\u001b[0;34m\"rand101\"\u001b[0m\u001b[0;34m,\u001b[0m \u001b[0;32mlambda\u001b[0m\u001b[0;34m:\u001b[0m \u001b[0mrandom\u001b[0m\u001b[0;34m.\u001b[0m\u001b[0muniform\u001b[0m\u001b[0;34m(\u001b[0m\u001b[0;34m-\u001b[0m\u001b[0;36m10\u001b[0m\u001b[0;34m,\u001b[0m\u001b[0;36m10\u001b[0m\u001b[0;34m)\u001b[0m\u001b[0;34m)\u001b[0m \u001b[0;31m# adjust?\u001b[0m\u001b[0;34m\u001b[0m\u001b[0m\n\u001b[0m\u001b[1;32m     36\u001b[0m     \u001b[0mpset\u001b[0m\u001b[0;34m.\u001b[0m\u001b[0mrenameArguments\u001b[0m\u001b[0;34m(\u001b[0m\u001b[0mARG0\u001b[0m\u001b[0;34m=\u001b[0m\u001b[0;34m'x1'\u001b[0m\u001b[0;34m)\u001b[0m\u001b[0;34m\u001b[0m\u001b[0m\n\u001b[1;32m     37\u001b[0m     \u001b[0mpset\u001b[0m\u001b[0;34m.\u001b[0m\u001b[0mrenameArguments\u001b[0m\u001b[0;34m(\u001b[0m\u001b[0mARG1\u001b[0m\u001b[0;34m=\u001b[0m\u001b[0;34m'x2'\u001b[0m\u001b[0;34m)\u001b[0m\u001b[0;34m\u001b[0m\u001b[0m\n",
      "\u001b[0;32m/Users/miyamoto/.pyenv/versions/miniconda3-4.0.5/envs/py35/lib/python3.5/site-packages/deap/gp.py\u001b[0m in \u001b[0;36maddEphemeralConstant\u001b[0;34m(self, name, ephemeral)\u001b[0m\n\u001b[1;32m    424\u001b[0m     \u001b[0;32mdef\u001b[0m \u001b[0maddEphemeralConstant\u001b[0m\u001b[0;34m(\u001b[0m\u001b[0mself\u001b[0m\u001b[0;34m,\u001b[0m \u001b[0mname\u001b[0m\u001b[0;34m,\u001b[0m \u001b[0mephemeral\u001b[0m\u001b[0;34m)\u001b[0m\u001b[0;34m:\u001b[0m\u001b[0;34m\u001b[0m\u001b[0m\n\u001b[1;32m    425\u001b[0m         \u001b[0;34m\"\"\"Add an ephemeral constant to the set.\"\"\"\u001b[0m\u001b[0;34m\u001b[0m\u001b[0m\n\u001b[0;32m--> 426\u001b[0;31m         \u001b[0mPrimitiveSetTyped\u001b[0m\u001b[0;34m.\u001b[0m\u001b[0maddEphemeralConstant\u001b[0m\u001b[0;34m(\u001b[0m\u001b[0mself\u001b[0m\u001b[0;34m,\u001b[0m \u001b[0mname\u001b[0m\u001b[0;34m,\u001b[0m \u001b[0mephemeral\u001b[0m\u001b[0;34m,\u001b[0m \u001b[0m__type__\u001b[0m\u001b[0;34m)\u001b[0m\u001b[0;34m\u001b[0m\u001b[0m\n\u001b[0m\u001b[1;32m    427\u001b[0m \u001b[0;34m\u001b[0m\u001b[0m\n\u001b[1;32m    428\u001b[0m \u001b[0;34m\u001b[0m\u001b[0m\n",
      "\u001b[0;32m/Users/miyamoto/.pyenv/versions/miniconda3-4.0.5/envs/py35/lib/python3.5/site-packages/deap/gp.py\u001b[0m in \u001b[0;36maddEphemeralConstant\u001b[0;34m(self, name, ephemeral, ret_type)\u001b[0m\n\u001b[1;32m    372\u001b[0m             \u001b[0;32mif\u001b[0m \u001b[0missubclass\u001b[0m\u001b[0;34m(\u001b[0m\u001b[0mclass_\u001b[0m\u001b[0;34m,\u001b[0m \u001b[0mEphemeral\u001b[0m\u001b[0;34m)\u001b[0m\u001b[0;34m:\u001b[0m\u001b[0;34m\u001b[0m\u001b[0m\n\u001b[1;32m    373\u001b[0m                 \u001b[0;32mif\u001b[0m \u001b[0mclass_\u001b[0m\u001b[0;34m.\u001b[0m\u001b[0mfunc\u001b[0m \u001b[0;32mis\u001b[0m \u001b[0;32mnot\u001b[0m \u001b[0mephemeral\u001b[0m\u001b[0;34m:\u001b[0m\u001b[0;34m\u001b[0m\u001b[0m\n\u001b[0;32m--> 374\u001b[0;31m                     raise Exception(\"Ephemerals with different functions should \"\n\u001b[0m\u001b[1;32m    375\u001b[0m                                     \"be named differently, even between psets.\")\n\u001b[1;32m    376\u001b[0m                 \u001b[0;32melif\u001b[0m \u001b[0mclass_\u001b[0m\u001b[0;34m.\u001b[0m\u001b[0mret\u001b[0m \u001b[0;32mis\u001b[0m \u001b[0;32mnot\u001b[0m \u001b[0mret_type\u001b[0m\u001b[0;34m:\u001b[0m\u001b[0;34m\u001b[0m\u001b[0m\n",
      "\u001b[0;31mException\u001b[0m: Ephemerals with different functions should be named differently, even between psets."
     ]
    }
   ],
   "source": [
    "if __name__ == \"__main__\":\n",
    "    train = pd.read_csv(\"./train.csv\", dtype={\"Age\": np.float64}, )\n",
    "    test = pd.read_csv(\"./test.csv\", dtype={\"Age\": np.float64}, )\n",
    "    mungedtrain = MungeData(train)\n",
    "    print(\"mungedtrain \", mungedtrain.head(3))\n",
    "    #GP\n",
    "    GeneticFunction = mydeap(mungedtrain)\n",
    "    \n",
    "    #test\n",
    "    mytrain = mungedtrain.iloc[:,2:10].values.tolist()\n",
    "    trainPredictions = Outputs(np.array([GeneticFunction(*x) for x in mytrain]))\n",
    "\n",
    "    pdtrain = pd.DataFrame({'PassengerId': mungedtrain.PassengerId.astype(int),\n",
    "                            'Predicted': trainPredictions.astype(int),\n",
    "                            'Survived': mungedtrain.Survived.astype(int)})\n",
    "    pdtrain.to_csv('MYgptrain.csv', index=False)\n",
    "    from sklearn.metrics import accuracy_score\n",
    "    print(accuracy_score(mungedtrain.Survived.astype(int),trainPredictions.astype(int)))\n",
    "    \n",
    "    mungedtest = MungeData(test)\n",
    "    mytest = mungedtest.iloc[:,1:9].values.tolist()\n",
    "    testPredictions = Outputs(np.array([GeneticFunction(*x) for x in mytest]))\n",
    "\n",
    "    pdtest = pd.DataFrame({'PassengerId': mungedtest.PassengerId.astype(int),\n",
    "                            'Survived': testPredictions.astype(int)})\n",
    "    pdtest.to_csv('gptest.csv', index=False)"
   ]
  },
  {
   "cell_type": "code",
   "execution_count": null,
   "metadata": {
    "collapsed": true
   },
   "outputs": [],
   "source": []
  }
 ],
 "metadata": {
  "kernelspec": {
   "display_name": "Python 3",
   "language": "python",
   "name": "python3"
  },
  "language_info": {
   "codemirror_mode": {
    "name": "ipython",
    "version": 3
   },
   "file_extension": ".py",
   "mimetype": "text/x-python",
   "name": "python",
   "nbconvert_exporter": "python",
   "pygments_lexer": "ipython3",
   "version": "3.5.3"
  }
 },
 "nbformat": 4,
 "nbformat_minor": 2
}
